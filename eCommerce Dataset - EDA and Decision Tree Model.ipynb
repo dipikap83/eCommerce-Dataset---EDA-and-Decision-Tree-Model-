{
 "cells": [
  {
   "cell_type": "markdown",
   "metadata": {},
   "source": [
    "# eCommerce Dataset - EDA and Decision Tree Model\n",
    "The attached dataset contains website users data (Google Analytics data) from Jan 1, 2017 to Jul 31, 2017. The sample dataset contains obfuscated Google Analytics 360 data from the Google Merchandise Store, a real ecommerce store. The Google Merchandise Store sells Google branded merchandise. The data is typical of what you would see for an ecommerce website. It includes the following kinds of information: \n",
    "- Traffic source data: information about where website visitors originate. This includes data about organic traffic, paid search traffic, display traffic, etc.\n",
    "- Content data: information about the behavior of users on the site.\n",
    "- Transactional data: information about the transactions that occur on the Google Merchandise Store website.\n",
    "\n",
    "[Data Source](https://storage.googleapis.com/sample_user_behavior_data/sample_user_data.csv)\n",
    "\n",
    "[Data Schema](https://support.google.com/analytics/answer/3437719?hl=en)\n"
   ]
  },
  {
   "cell_type": "markdown",
   "metadata": {},
   "source": [
    "# Setting up the Environment\n",
    "\n",
    "Import the necessary packages"
   ]
  },
  {
   "cell_type": "code",
   "execution_count": 1,
   "metadata": {},
   "outputs": [
    {
     "name": "stderr",
     "output_type": "stream",
     "text": [
      "C:\\Users\\dipik\\Anaconda3\\lib\\site-packages\\sklearn\\externals\\six.py:31: DeprecationWarning: The module is deprecated in version 0.21 and will be removed in version 0.23 since we've dropped support for Python 2.7. Please rely on the official version of six (https://pypi.org/project/six/).\n",
      "  \"(https://pypi.org/project/six/).\", DeprecationWarning)\n"
     ]
    }
   ],
   "source": [
    "import pandas as pd\n",
    "import numpy as np\n",
    "\n",
    "import matplotlib\n",
    "import matplotlib.dates as mdates\n",
    "import matplotlib.pyplot as plt\n",
    "plt.style.use('seaborn-white')\n",
    "import seaborn as sns\n",
    "from matplotlib.dates import DateFormatter\n",
    "\n",
    "import time\n",
    "from datetime import date\n",
    "from datetime import datetime\n",
    "from math import log\n",
    "\n",
    "import pydotplus\n",
    "from sklearn.model_selection import train_test_split\n",
    "from sklearn.preprocessing import LabelEncoder\n",
    "from sklearn import metrics \n",
    "from sklearn.metrics import confusion_matrix\n",
    "from sklearn.tree import DecisionTreeClassifier, export_graphviz\n",
    "from sklearn.tree import export_graphviz\n",
    "from sklearn.externals.six import StringIO\n",
    "from sklearn.preprocessing import LabelEncoder\n",
    "from IPython.display import Image  \n"
   ]
  },
  {
   "cell_type": "markdown",
   "metadata": {},
   "source": [
    "Plot settings"
   ]
  },
  {
   "cell_type": "code",
   "execution_count": 2,
   "metadata": {},
   "outputs": [],
   "source": [
    "fig_size = plt.rcParams[\"figure.figsize\"]\n",
    "fig_size[0] = 12\n",
    "fig_size[1] = 6\n",
    "plt.rcParams[\"figure.figsize\"] = fig_size\n",
    "plt.rcParams['xtick.labelsize']=10\n",
    "plt.rcParams['ytick.labelsize']=10\n",
    "sns.set_style(\"white\")\n",
    "sns.set_palette(\"muted\")"
   ]
  },
  {
   "cell_type": "markdown",
   "metadata": {},
   "source": [
    "# Load the Dataset\n",
    "- Read the dataset using read.csv function from pandas\n",
    "- Review the first five rows of the dataset\n",
    "- Check the numbber of rows and columns, the datatypes\n",
    "- Change the column names to suitable column names"
   ]
  },
  {
   "cell_type": "code",
   "execution_count": 3,
   "metadata": {},
   "outputs": [
    {
     "name": "stderr",
     "output_type": "stream",
     "text": [
      "C:\\Users\\dipik\\Anaconda3\\lib\\site-packages\\IPython\\core\\interactiveshell.py:3057: DtypeWarning: Columns (0) have mixed types. Specify dtype option on import or set low_memory=False.\n",
      "  interactivity=interactivity, compiler=compiler, result=result)\n"
     ]
    },
    {
     "data": {
      "text/html": [
       "<div>\n",
       "<style scoped>\n",
       "    .dataframe tbody tr th:only-of-type {\n",
       "        vertical-align: middle;\n",
       "    }\n",
       "\n",
       "    .dataframe tbody tr th {\n",
       "        vertical-align: top;\n",
       "    }\n",
       "\n",
       "    .dataframe thead th {\n",
       "        text-align: right;\n",
       "    }\n",
       "</style>\n",
       "<table border=\"1\" class=\"dataframe\">\n",
       "  <thead>\n",
       "    <tr style=\"text-align: right;\">\n",
       "      <th></th>\n",
       "      <th>fullVisitorId</th>\n",
       "      <th>visitNumber</th>\n",
       "      <th>date</th>\n",
       "      <th>visitStartTime</th>\n",
       "      <th>totals_bounces</th>\n",
       "      <th>totals_pageviews</th>\n",
       "      <th>totals_timeOnSite</th>\n",
       "      <th>totals_totalTransactionRevenue</th>\n",
       "      <th>totals_transactions</th>\n",
       "      <th>trafficSource_source</th>\n",
       "      <th>trafficSource_medium</th>\n",
       "      <th>trafficSource_campaign</th>\n",
       "      <th>device_deviceCategory</th>\n",
       "      <th>device_operatingSystem</th>\n",
       "      <th>device_mobileDeviceModel</th>\n",
       "      <th>geoNetwork_city</th>\n",
       "      <th>channelGrouping</th>\n",
       "    </tr>\n",
       "  </thead>\n",
       "  <tbody>\n",
       "    <tr>\n",
       "      <th>0</th>\n",
       "      <td>27376579751715</td>\n",
       "      <td>1</td>\n",
       "      <td>20170211</td>\n",
       "      <td>1486866293</td>\n",
       "      <td>NaN</td>\n",
       "      <td>5.0</td>\n",
       "      <td>49.0</td>\n",
       "      <td>NaN</td>\n",
       "      <td>NaN</td>\n",
       "      <td>(direct)</td>\n",
       "      <td>(none)</td>\n",
       "      <td>(not set)</td>\n",
       "      <td>desktop</td>\n",
       "      <td>Macintosh</td>\n",
       "      <td>not available in demo dataset</td>\n",
       "      <td>not available in demo dataset</td>\n",
       "      <td>Organic Search</td>\n",
       "    </tr>\n",
       "    <tr>\n",
       "      <th>1</th>\n",
       "      <td>39460501403861</td>\n",
       "      <td>1</td>\n",
       "      <td>20170327</td>\n",
       "      <td>1490629516</td>\n",
       "      <td>NaN</td>\n",
       "      <td>2.0</td>\n",
       "      <td>99.0</td>\n",
       "      <td>NaN</td>\n",
       "      <td>NaN</td>\n",
       "      <td>youtube.com</td>\n",
       "      <td>referral</td>\n",
       "      <td>(not set)</td>\n",
       "      <td>desktop</td>\n",
       "      <td>Windows</td>\n",
       "      <td>not available in demo dataset</td>\n",
       "      <td>not available in demo dataset</td>\n",
       "      <td>Social</td>\n",
       "    </tr>\n",
       "    <tr>\n",
       "      <th>2</th>\n",
       "      <td>40862739425590</td>\n",
       "      <td>1</td>\n",
       "      <td>20170211</td>\n",
       "      <td>1486836571</td>\n",
       "      <td>NaN</td>\n",
       "      <td>2.0</td>\n",
       "      <td>14.0</td>\n",
       "      <td>NaN</td>\n",
       "      <td>NaN</td>\n",
       "      <td>(direct)</td>\n",
       "      <td>(none)</td>\n",
       "      <td>(not set)</td>\n",
       "      <td>desktop</td>\n",
       "      <td>Macintosh</td>\n",
       "      <td>not available in demo dataset</td>\n",
       "      <td>Oakland</td>\n",
       "      <td>Paid Search</td>\n",
       "    </tr>\n",
       "    <tr>\n",
       "      <th>3</th>\n",
       "      <td>40862739425590</td>\n",
       "      <td>2</td>\n",
       "      <td>20170211</td>\n",
       "      <td>1486838824</td>\n",
       "      <td>NaN</td>\n",
       "      <td>3.0</td>\n",
       "      <td>35.0</td>\n",
       "      <td>NaN</td>\n",
       "      <td>NaN</td>\n",
       "      <td>(direct)</td>\n",
       "      <td>(none)</td>\n",
       "      <td>(not set)</td>\n",
       "      <td>desktop</td>\n",
       "      <td>Macintosh</td>\n",
       "      <td>not available in demo dataset</td>\n",
       "      <td>Oakland</td>\n",
       "      <td>Paid Search</td>\n",
       "    </tr>\n",
       "    <tr>\n",
       "      <th>4</th>\n",
       "      <td>62267706107999</td>\n",
       "      <td>1</td>\n",
       "      <td>20170709</td>\n",
       "      <td>1499645960</td>\n",
       "      <td>1.0</td>\n",
       "      <td>1.0</td>\n",
       "      <td>NaN</td>\n",
       "      <td>NaN</td>\n",
       "      <td>NaN</td>\n",
       "      <td>Partners</td>\n",
       "      <td>affiliate</td>\n",
       "      <td>Data Share Promo</td>\n",
       "      <td>desktop</td>\n",
       "      <td>Windows</td>\n",
       "      <td>not available in demo dataset</td>\n",
       "      <td>not available in demo dataset</td>\n",
       "      <td>Affiliates</td>\n",
       "    </tr>\n",
       "  </tbody>\n",
       "</table>\n",
       "</div>"
      ],
      "text/plain": [
       "    fullVisitorId  visitNumber      date  visitStartTime  totals_bounces  \\\n",
       "0  27376579751715            1  20170211      1486866293             NaN   \n",
       "1  39460501403861            1  20170327      1490629516             NaN   \n",
       "2  40862739425590            1  20170211      1486836571             NaN   \n",
       "3  40862739425590            2  20170211      1486838824             NaN   \n",
       "4  62267706107999            1  20170709      1499645960             1.0   \n",
       "\n",
       "   totals_pageviews  totals_timeOnSite  totals_totalTransactionRevenue  \\\n",
       "0               5.0               49.0                             NaN   \n",
       "1               2.0               99.0                             NaN   \n",
       "2               2.0               14.0                             NaN   \n",
       "3               3.0               35.0                             NaN   \n",
       "4               1.0                NaN                             NaN   \n",
       "\n",
       "   totals_transactions trafficSource_source trafficSource_medium  \\\n",
       "0                  NaN             (direct)               (none)   \n",
       "1                  NaN          youtube.com             referral   \n",
       "2                  NaN             (direct)               (none)   \n",
       "3                  NaN             (direct)               (none)   \n",
       "4                  NaN             Partners            affiliate   \n",
       "\n",
       "  trafficSource_campaign device_deviceCategory device_operatingSystem  \\\n",
       "0              (not set)               desktop              Macintosh   \n",
       "1              (not set)               desktop                Windows   \n",
       "2              (not set)               desktop              Macintosh   \n",
       "3              (not set)               desktop              Macintosh   \n",
       "4       Data Share Promo               desktop                Windows   \n",
       "\n",
       "        device_mobileDeviceModel                geoNetwork_city  \\\n",
       "0  not available in demo dataset  not available in demo dataset   \n",
       "1  not available in demo dataset  not available in demo dataset   \n",
       "2  not available in demo dataset                        Oakland   \n",
       "3  not available in demo dataset                        Oakland   \n",
       "4  not available in demo dataset  not available in demo dataset   \n",
       "\n",
       "  channelGrouping  \n",
       "0  Organic Search  \n",
       "1          Social  \n",
       "2     Paid Search  \n",
       "3     Paid Search  \n",
       "4      Affiliates  "
      ]
     },
     "execution_count": 3,
     "metadata": {},
     "output_type": "execute_result"
    }
   ],
   "source": [
    "input_df = pd.read_csv(\"C:/Users/dipik/Desktop/Resumes/Merkle Assignment/sample_user_data.csv\")\n",
    "input_df.head()"
   ]
  },
  {
   "cell_type": "code",
   "execution_count": 4,
   "metadata": {},
   "outputs": [
    {
     "data": {
      "text/plain": [
       "(464704, 17)"
      ]
     },
     "execution_count": 4,
     "metadata": {},
     "output_type": "execute_result"
    }
   ],
   "source": [
    "# Check the number of rows and columns\n",
    "input_df.shape"
   ]
  },
  {
   "cell_type": "code",
   "execution_count": 5,
   "metadata": {},
   "outputs": [
    {
     "data": {
      "text/plain": [
       "fullVisitorId                      object\n",
       "visitNumber                         int64\n",
       "date                                int64\n",
       "visitStartTime                      int64\n",
       "totals_bounces                    float64\n",
       "totals_pageviews                  float64\n",
       "totals_timeOnSite                 float64\n",
       "totals_totalTransactionRevenue    float64\n",
       "totals_transactions               float64\n",
       "trafficSource_source               object\n",
       "trafficSource_medium               object\n",
       "trafficSource_campaign             object\n",
       "device_deviceCategory              object\n",
       "device_operatingSystem             object\n",
       "device_mobileDeviceModel           object\n",
       "geoNetwork_city                    object\n",
       "channelGrouping                    object\n",
       "dtype: object"
      ]
     },
     "execution_count": 5,
     "metadata": {},
     "output_type": "execute_result"
    }
   ],
   "source": [
    "# Check the datatype\n",
    "input_df.dtypes"
   ]
  },
  {
   "cell_type": "code",
   "execution_count": 6,
   "metadata": {},
   "outputs": [],
   "source": [
    "# Take a back up of the input dataset\n",
    "input_df_backup = input_df"
   ]
  },
  {
   "cell_type": "code",
   "execution_count": 7,
   "metadata": {},
   "outputs": [],
   "source": [
    "# change the column names\n",
    "input_df.rename(index=str, columns={'fullVisitorId': 'Visitor_id',\n",
    "                              'visitNumber' : 'Visit_Number',\n",
    "                              'date' : 'Date',\n",
    "                              'visitStartTime' : 'Visit_StartTime',\n",
    "                              'totals_bounces' : 'Bounces',\n",
    "                              'totals_pageviews' : 'Page_Views_Total',\n",
    "                              'totals_timeOnSite' : 'Time_Per_Session_Total',\n",
    "                              'totals_totalTransactionRevenue' : 'Transaction_Amt',\n",
    "                              'totals_transactions' : 'Transactions_Total',\n",
    "                              'trafficSource_source' : 'Traffic_Source',\n",
    "                              'trafficSource_medium' : 'Traffic_Source_Medium',\n",
    "                              'trafficSource_campaign' : 'Traffic_Source_Campaign',\n",
    "                              'device_deviceCategory' : 'Device_Catg',\n",
    "                              'device_operatingSystem' : 'OS',\n",
    "                              'device_mobileDeviceModel' : 'Device_Model',\n",
    "                              'geoNetwork_city' : 'City',\n",
    "                              'channelGrouping' : 'Channel'}, inplace=True)"
   ]
  },
  {
   "cell_type": "markdown",
   "metadata": {},
   "source": [
    "# Data Preprocessing\n",
    "- Check the columns which have null values\n",
    "- Replace the null values with zeros or mean based on the column functionality\n",
    "- Create new columns  \n",
    "   - Transact : To indicate whether there was a transaction or not (0 - No, 1 - Yes)\n",
    "   - Month : The month is derived from 'date' column\n",
    "   - Day : The date is derived from 'date' column\n",
    "   - Hour : The hour is derived from the Posix VisitStartTime column\n",
    "   - Transaction_Revenue : The actual transaction amount is derived from TotalTransactionRevenue"
   ]
  },
  {
   "cell_type": "code",
   "execution_count": 8,
   "metadata": {},
   "outputs": [
    {
     "data": {
      "text/plain": [
       "Visitor_id                      0\n",
       "Visit_Number                    0\n",
       "Date                            0\n",
       "Visit_StartTime                 0\n",
       "Bounces                    232332\n",
       "Page_Views_Total               52\n",
       "Time_Per_Session_Total     233021\n",
       "Transaction_Amt            458396\n",
       "Transactions_Total         458396\n",
       "Traffic_Source                  0\n",
       "Traffic_Source_Medium           0\n",
       "Traffic_Source_Campaign         0\n",
       "Device_Catg                     0\n",
       "OS                              0\n",
       "Device_Model                    0\n",
       "City                            0\n",
       "Channel                         0\n",
       "dtype: int64"
      ]
     },
     "execution_count": 8,
     "metadata": {},
     "output_type": "execute_result"
    }
   ],
   "source": [
    "# Check for the null values in the dataset\n",
    "input_df.isnull().sum()"
   ]
  },
  {
   "cell_type": "markdown",
   "metadata": {},
   "source": [
    "#### Replacing Null Values\n",
    "\n",
    "- **Total Transaction Revenue & Total Transactions** : Before we replace the null values in Transaction_Amt and Transactions_Total, we need to check if either column value is null when the other has a non-null value. For eg. if Transaction_Amt value is null when Transactions_Total is a non-null value, then we shouldn't replace Transaction_Amt with a zero value\n",
    "- **Page_Views_Total** : Replace the null value with zero wherever the Time_Per_Session is null/zero. For the remaining null values in the column, you replace it with the mean of the column.\n",
    "- **Time_Per_Session_Total**: Replace the null value with zero wherever the Bounces = 1. For the remaining null values in the column, you replace it with the mean of the column.\n",
    "- **Bounces** - Replace the null values in totals_bounces with zero."
   ]
  },
  {
   "cell_type": "code",
   "execution_count": 9,
   "metadata": {},
   "outputs": [],
   "source": [
    "# Transaction_Amt and Transactions_Total \n",
    "for k in range(0,len(input_df),1):\n",
    "    if (pd.isna(input_df.iloc[k,7])) and (pd.notna(input_df.iloc[k,8])):\n",
    "        print('Transaction Revenue missing when Number of Transactions not null at row ', k)\n",
    "\n",
    "for k in range(0,len(input_df),1):\n",
    "    if (pd.isna(input_df.iloc[k,8])) and (pd.notna(input_df.iloc[k,7])):\n",
    "        print('Number of Transactions missing when the Transacation Revenue is not null at row ', k)\n"
   ]
  },
  {
   "cell_type": "code",
   "execution_count": 10,
   "metadata": {},
   "outputs": [],
   "source": [
    "# Transaction_Amt and Transactions_Total \n",
    "input_df['Transaction_Amt'].fillna(0, inplace=True)\n",
    "input_df['Transactions_Total'].fillna(0, inplace=True)"
   ]
  },
  {
   "cell_type": "code",
   "execution_count": 11,
   "metadata": {},
   "outputs": [],
   "source": [
    "# Page Views \n",
    "for k in range(0,len(input_df),1):\n",
    "    if (pd.isna(input_df.iloc[k,5])) and (pd.isna(input_df.iloc[k,6])):\n",
    "        input_df.iloc[k,5] = 0\n",
    "        \n",
    "input_df['Page_Views_Total'] = input_df['Page_Views_Total'].fillna((input_df['Page_Views_Total'].mean()))"
   ]
  },
  {
   "cell_type": "code",
   "execution_count": 12,
   "metadata": {},
   "outputs": [],
   "source": [
    "# Time_Per_Session_Total\n",
    "for k in range(0,len(input_df),1):\n",
    "    if (pd.isna(input_df.iloc[k,6])) and (pd.notna(input_df.iloc[k,4])):\n",
    "        input_df.iloc[k,6] = 0\n",
    "input_df['Time_Per_Session_Total'] = input_df['Time_Per_Session_Total'].fillna((input_df['Time_Per_Session_Total'].mean()))"
   ]
  },
  {
   "cell_type": "code",
   "execution_count": 13,
   "metadata": {},
   "outputs": [],
   "source": [
    "# Bounces\n",
    "input_df['Bounces'].fillna(0, inplace=True)"
   ]
  },
  {
   "cell_type": "code",
   "execution_count": 14,
   "metadata": {},
   "outputs": [
    {
     "data": {
      "text/plain": [
       "Visitor_id                 0\n",
       "Visit_Number               0\n",
       "Date                       0\n",
       "Visit_StartTime            0\n",
       "Bounces                    0\n",
       "Page_Views_Total           0\n",
       "Time_Per_Session_Total     0\n",
       "Transaction_Amt            0\n",
       "Transactions_Total         0\n",
       "Traffic_Source             0\n",
       "Traffic_Source_Medium      0\n",
       "Traffic_Source_Campaign    0\n",
       "Device_Catg                0\n",
       "OS                         0\n",
       "Device_Model               0\n",
       "City                       0\n",
       "Channel                    0\n",
       "dtype: int64"
      ]
     },
     "execution_count": 14,
     "metadata": {},
     "output_type": "execute_result"
    }
   ],
   "source": [
    "# Check if all the null values have been addressed\n",
    "input_df.isnull().sum()"
   ]
  },
  {
   "cell_type": "markdown",
   "metadata": {},
   "source": [
    "#### Create new column to indicate whether customer transacted or not"
   ]
  },
  {
   "cell_type": "code",
   "execution_count": 15,
   "metadata": {},
   "outputs": [],
   "source": [
    "#Transact : To indicate whether there was a transaction or not (0 - No, 1 - Yes)\n",
    "\n",
    "input_df['transact'] = np.where(input_df['Transactions_Total']  == 0, '0','1')\n",
    "input_df['transact'] = input_df['transact'].astype('str')"
   ]
  },
  {
   "cell_type": "code",
   "execution_count": 16,
   "metadata": {},
   "outputs": [],
   "source": [
    "#Visitor ID : Convert it to string type\n",
    "\n",
    "input_df['Visitor_id'] = input_df['Visitor_id'].astype('str')"
   ]
  },
  {
   "cell_type": "code",
   "execution_count": 17,
   "metadata": {},
   "outputs": [],
   "source": [
    "#Month: The month is derived from 'Date' column \n",
    "#Day : The date is derived from 'Date' column\n",
    "\n",
    "# Create two new columns for month and day\n",
    "input_df[['month']] = input_df[['Date']].applymap(str).applymap(lambda s: \"{}\".format(s[4:6]))\n",
    "input_df[['day']] = input_df[['Date']].applymap(str).applymap(lambda s: \"{}\".format(s[6:]))\n",
    "input_df['month'] = input_df['month'].astype('str')\n",
    "input_df['day'] = input_df['day'].astype('str')"
   ]
  },
  {
   "cell_type": "code",
   "execution_count": 18,
   "metadata": {},
   "outputs": [],
   "source": [
    "#Hour : The hour is derived from the Posix VisitStartTime column\n",
    "\n",
    "input_df['fr_posix'] = pd.to_datetime(input_df['Visit_StartTime'],unit='s')\n",
    "input_df[['hour']] = input_df[['fr_posix']].applymap(str).applymap(lambda s: \"{}\".format(s[11:13]))"
   ]
  },
  {
   "cell_type": "code",
   "execution_count": 19,
   "metadata": {},
   "outputs": [],
   "source": [
    "#Transaction_Revenue : The actual transaction amount is derived from TotalTransactionRevenue\n",
    "\n",
    "input_df['Transaction_Revenue'] = input_df['Transaction_Amt'] / 1000000"
   ]
  },
  {
   "cell_type": "markdown",
   "metadata": {},
   "source": [
    "# Create the final dataset for EDA \n",
    "\n",
    "The following columns are dropped from the input dataset\n",
    "- Date : The month and day has been extracted from this. There is no value in reviewing the year since we have information only for a year.\n",
    "- Visit_StartTime : The hour has been extracted from this. There is no value in reviewing the minutes, seconds for the EDA and modelling\n",
    "- Device_Model : This information is not available in the demo dataset.\n",
    "- fr_posix : This was a temp variable created to extract the time from the POSIX time.\n",
    "- Transaction_Amt : The actual Transaction Amount is generated and used for EDA and modelling"
   ]
  },
  {
   "cell_type": "code",
   "execution_count": 20,
   "metadata": {},
   "outputs": [],
   "source": [
    "final_df = input_df.drop(['Date','Visit_StartTime','Device_Model','fr_posix','Transaction_Amt'],axis=1)"
   ]
  },
  {
   "cell_type": "code",
   "execution_count": 21,
   "metadata": {},
   "outputs": [
    {
     "data": {
      "text/html": [
       "<div>\n",
       "<style scoped>\n",
       "    .dataframe tbody tr th:only-of-type {\n",
       "        vertical-align: middle;\n",
       "    }\n",
       "\n",
       "    .dataframe tbody tr th {\n",
       "        vertical-align: top;\n",
       "    }\n",
       "\n",
       "    .dataframe thead th {\n",
       "        text-align: right;\n",
       "    }\n",
       "</style>\n",
       "<table border=\"1\" class=\"dataframe\">\n",
       "  <thead>\n",
       "    <tr style=\"text-align: right;\">\n",
       "      <th></th>\n",
       "      <th>Visitor_id</th>\n",
       "      <th>Visit_Number</th>\n",
       "      <th>Bounces</th>\n",
       "      <th>Page_Views_Total</th>\n",
       "      <th>Time_Per_Session_Total</th>\n",
       "      <th>Transactions_Total</th>\n",
       "      <th>Traffic_Source</th>\n",
       "      <th>Traffic_Source_Medium</th>\n",
       "      <th>Traffic_Source_Campaign</th>\n",
       "      <th>Device_Catg</th>\n",
       "      <th>OS</th>\n",
       "      <th>City</th>\n",
       "      <th>Channel</th>\n",
       "      <th>transact</th>\n",
       "      <th>month</th>\n",
       "      <th>day</th>\n",
       "      <th>hour</th>\n",
       "      <th>Transaction_Revenue</th>\n",
       "    </tr>\n",
       "  </thead>\n",
       "  <tbody>\n",
       "    <tr>\n",
       "      <th>0</th>\n",
       "      <td>27376579751715</td>\n",
       "      <td>1</td>\n",
       "      <td>0.0</td>\n",
       "      <td>5.0</td>\n",
       "      <td>49.0</td>\n",
       "      <td>0.0</td>\n",
       "      <td>(direct)</td>\n",
       "      <td>(none)</td>\n",
       "      <td>(not set)</td>\n",
       "      <td>desktop</td>\n",
       "      <td>Macintosh</td>\n",
       "      <td>not available in demo dataset</td>\n",
       "      <td>Organic Search</td>\n",
       "      <td>0</td>\n",
       "      <td>02</td>\n",
       "      <td>11</td>\n",
       "      <td>02</td>\n",
       "      <td>0.0</td>\n",
       "    </tr>\n",
       "    <tr>\n",
       "      <th>1</th>\n",
       "      <td>39460501403861</td>\n",
       "      <td>1</td>\n",
       "      <td>0.0</td>\n",
       "      <td>2.0</td>\n",
       "      <td>99.0</td>\n",
       "      <td>0.0</td>\n",
       "      <td>youtube.com</td>\n",
       "      <td>referral</td>\n",
       "      <td>(not set)</td>\n",
       "      <td>desktop</td>\n",
       "      <td>Windows</td>\n",
       "      <td>not available in demo dataset</td>\n",
       "      <td>Social</td>\n",
       "      <td>0</td>\n",
       "      <td>03</td>\n",
       "      <td>27</td>\n",
       "      <td>15</td>\n",
       "      <td>0.0</td>\n",
       "    </tr>\n",
       "    <tr>\n",
       "      <th>2</th>\n",
       "      <td>40862739425590</td>\n",
       "      <td>1</td>\n",
       "      <td>0.0</td>\n",
       "      <td>2.0</td>\n",
       "      <td>14.0</td>\n",
       "      <td>0.0</td>\n",
       "      <td>(direct)</td>\n",
       "      <td>(none)</td>\n",
       "      <td>(not set)</td>\n",
       "      <td>desktop</td>\n",
       "      <td>Macintosh</td>\n",
       "      <td>Oakland</td>\n",
       "      <td>Paid Search</td>\n",
       "      <td>0</td>\n",
       "      <td>02</td>\n",
       "      <td>11</td>\n",
       "      <td>18</td>\n",
       "      <td>0.0</td>\n",
       "    </tr>\n",
       "    <tr>\n",
       "      <th>3</th>\n",
       "      <td>40862739425590</td>\n",
       "      <td>2</td>\n",
       "      <td>0.0</td>\n",
       "      <td>3.0</td>\n",
       "      <td>35.0</td>\n",
       "      <td>0.0</td>\n",
       "      <td>(direct)</td>\n",
       "      <td>(none)</td>\n",
       "      <td>(not set)</td>\n",
       "      <td>desktop</td>\n",
       "      <td>Macintosh</td>\n",
       "      <td>Oakland</td>\n",
       "      <td>Paid Search</td>\n",
       "      <td>0</td>\n",
       "      <td>02</td>\n",
       "      <td>11</td>\n",
       "      <td>18</td>\n",
       "      <td>0.0</td>\n",
       "    </tr>\n",
       "    <tr>\n",
       "      <th>4</th>\n",
       "      <td>62267706107999</td>\n",
       "      <td>1</td>\n",
       "      <td>1.0</td>\n",
       "      <td>1.0</td>\n",
       "      <td>0.0</td>\n",
       "      <td>0.0</td>\n",
       "      <td>Partners</td>\n",
       "      <td>affiliate</td>\n",
       "      <td>Data Share Promo</td>\n",
       "      <td>desktop</td>\n",
       "      <td>Windows</td>\n",
       "      <td>not available in demo dataset</td>\n",
       "      <td>Affiliates</td>\n",
       "      <td>0</td>\n",
       "      <td>07</td>\n",
       "      <td>09</td>\n",
       "      <td>00</td>\n",
       "      <td>0.0</td>\n",
       "    </tr>\n",
       "  </tbody>\n",
       "</table>\n",
       "</div>"
      ],
      "text/plain": [
       "       Visitor_id  Visit_Number  Bounces  Page_Views_Total  \\\n",
       "0  27376579751715             1      0.0               5.0   \n",
       "1  39460501403861             1      0.0               2.0   \n",
       "2  40862739425590             1      0.0               2.0   \n",
       "3  40862739425590             2      0.0               3.0   \n",
       "4  62267706107999             1      1.0               1.0   \n",
       "\n",
       "   Time_Per_Session_Total  Transactions_Total Traffic_Source  \\\n",
       "0                    49.0                 0.0       (direct)   \n",
       "1                    99.0                 0.0    youtube.com   \n",
       "2                    14.0                 0.0       (direct)   \n",
       "3                    35.0                 0.0       (direct)   \n",
       "4                     0.0                 0.0       Partners   \n",
       "\n",
       "  Traffic_Source_Medium Traffic_Source_Campaign Device_Catg         OS  \\\n",
       "0                (none)               (not set)     desktop  Macintosh   \n",
       "1              referral               (not set)     desktop    Windows   \n",
       "2                (none)               (not set)     desktop  Macintosh   \n",
       "3                (none)               (not set)     desktop  Macintosh   \n",
       "4             affiliate        Data Share Promo     desktop    Windows   \n",
       "\n",
       "                            City         Channel transact month day hour  \\\n",
       "0  not available in demo dataset  Organic Search        0    02  11   02   \n",
       "1  not available in demo dataset          Social        0    03  27   15   \n",
       "2                        Oakland     Paid Search        0    02  11   18   \n",
       "3                        Oakland     Paid Search        0    02  11   18   \n",
       "4  not available in demo dataset      Affiliates        0    07  09   00   \n",
       "\n",
       "   Transaction_Revenue  \n",
       "0                  0.0  \n",
       "1                  0.0  \n",
       "2                  0.0  \n",
       "3                  0.0  \n",
       "4                  0.0  "
      ]
     },
     "execution_count": 21,
     "metadata": {},
     "output_type": "execute_result"
    }
   ],
   "source": [
    "final_df.head()"
   ]
  },
  {
   "cell_type": "markdown",
   "metadata": {},
   "source": [
    "# Exploratory Data Analysis\n"
   ]
  },
  {
   "cell_type": "markdown",
   "metadata": {},
   "source": [
    "#### Summary\n",
    "From the below summary, you can see there are outliers in the dataset.\n",
    "- **Visit_Number** - The average number of times that a visitor has visited the ecommerce site is around 2. Given that 75% of the visitors visited just once, you can detect there are outliers in the value with the maximum value of 395 times.\n",
    "- **Bounces** - More than 50% of the visits resulted in a bounce as per the below summary. \n",
    "- **Page_Views_Total** - The average number of times that the page has been viewed is close to 4 times. Given that 75% of the visits resulted in average 4 views, you can see that there is an outlier where the maximum value is 466 times!\n",
    "- **Transactions_Total**- The average number of transactions per visit is very low at 0.014. As you can see for more than 75% of the customers the number of transactions is zero. Clearly there are outliers, with the max value being at 25.\n",
    "- **Transaction_Revenue** - The average amount of transaction revenue generated per visit is 2 dollars. This does not seem correct. We can see an outlier with the value of 47082 dollars. This could be the reason that the average is at 2 dollars. If we remove the outlier, then the average transaction revenue generated per visit could be much lower. \n",
    "\n",
    "\n",
    "From the box plots for Transactions_Total and Transaction_Revenue, you can clearly see there are outliers which should be reviewed closely."
   ]
  },
  {
   "cell_type": "code",
   "execution_count": 22,
   "metadata": {},
   "outputs": [
    {
     "data": {
      "text/html": [
       "<div>\n",
       "<style scoped>\n",
       "    .dataframe tbody tr th:only-of-type {\n",
       "        vertical-align: middle;\n",
       "    }\n",
       "\n",
       "    .dataframe tbody tr th {\n",
       "        vertical-align: top;\n",
       "    }\n",
       "\n",
       "    .dataframe thead th {\n",
       "        text-align: right;\n",
       "    }\n",
       "</style>\n",
       "<table border=\"1\" class=\"dataframe\">\n",
       "  <thead>\n",
       "    <tr style=\"text-align: right;\">\n",
       "      <th></th>\n",
       "      <th>Visit_Number</th>\n",
       "      <th>Bounces</th>\n",
       "      <th>Page_Views_Total</th>\n",
       "      <th>Time_Per_Session_Total</th>\n",
       "      <th>Transactions_Total</th>\n",
       "      <th>Transaction_Revenue</th>\n",
       "    </tr>\n",
       "  </thead>\n",
       "  <tbody>\n",
       "    <tr>\n",
       "      <th>count</th>\n",
       "      <td>464704.000000</td>\n",
       "      <td>464704.000000</td>\n",
       "      <td>464704.000000</td>\n",
       "      <td>464704.000000</td>\n",
       "      <td>464704.000000</td>\n",
       "      <td>464704.000000</td>\n",
       "    </tr>\n",
       "    <tr>\n",
       "      <th>mean</th>\n",
       "      <td>2.333767</td>\n",
       "      <td>0.500043</td>\n",
       "      <td>3.770307</td>\n",
       "      <td>139.729842</td>\n",
       "      <td>0.014205</td>\n",
       "      <td>2.195026</td>\n",
       "    </tr>\n",
       "    <tr>\n",
       "      <th>std</th>\n",
       "      <td>9.877242</td>\n",
       "      <td>0.500001</td>\n",
       "      <td>6.401766</td>\n",
       "      <td>374.650310</td>\n",
       "      <td>0.136001</td>\n",
       "      <td>106.906946</td>\n",
       "    </tr>\n",
       "    <tr>\n",
       "      <th>min</th>\n",
       "      <td>1.000000</td>\n",
       "      <td>0.000000</td>\n",
       "      <td>0.000000</td>\n",
       "      <td>0.000000</td>\n",
       "      <td>0.000000</td>\n",
       "      <td>0.000000</td>\n",
       "    </tr>\n",
       "    <tr>\n",
       "      <th>25%</th>\n",
       "      <td>1.000000</td>\n",
       "      <td>0.000000</td>\n",
       "      <td>1.000000</td>\n",
       "      <td>0.000000</td>\n",
       "      <td>0.000000</td>\n",
       "      <td>0.000000</td>\n",
       "    </tr>\n",
       "    <tr>\n",
       "      <th>50%</th>\n",
       "      <td>1.000000</td>\n",
       "      <td>1.000000</td>\n",
       "      <td>1.000000</td>\n",
       "      <td>0.000000</td>\n",
       "      <td>0.000000</td>\n",
       "      <td>0.000000</td>\n",
       "    </tr>\n",
       "    <tr>\n",
       "      <th>75%</th>\n",
       "      <td>1.000000</td>\n",
       "      <td>1.000000</td>\n",
       "      <td>4.000000</td>\n",
       "      <td>95.000000</td>\n",
       "      <td>0.000000</td>\n",
       "      <td>0.000000</td>\n",
       "    </tr>\n",
       "    <tr>\n",
       "      <th>max</th>\n",
       "      <td>395.000000</td>\n",
       "      <td>1.000000</td>\n",
       "      <td>466.000000</td>\n",
       "      <td>12136.000000</td>\n",
       "      <td>25.000000</td>\n",
       "      <td>47082.060000</td>\n",
       "    </tr>\n",
       "  </tbody>\n",
       "</table>\n",
       "</div>"
      ],
      "text/plain": [
       "        Visit_Number        Bounces  Page_Views_Total  Time_Per_Session_Total  \\\n",
       "count  464704.000000  464704.000000     464704.000000           464704.000000   \n",
       "mean        2.333767       0.500043          3.770307              139.729842   \n",
       "std         9.877242       0.500001          6.401766              374.650310   \n",
       "min         1.000000       0.000000          0.000000                0.000000   \n",
       "25%         1.000000       0.000000          1.000000                0.000000   \n",
       "50%         1.000000       1.000000          1.000000                0.000000   \n",
       "75%         1.000000       1.000000          4.000000               95.000000   \n",
       "max       395.000000       1.000000        466.000000            12136.000000   \n",
       "\n",
       "       Transactions_Total  Transaction_Revenue  \n",
       "count       464704.000000        464704.000000  \n",
       "mean             0.014205             2.195026  \n",
       "std              0.136001           106.906946  \n",
       "min              0.000000             0.000000  \n",
       "25%              0.000000             0.000000  \n",
       "50%              0.000000             0.000000  \n",
       "75%              0.000000             0.000000  \n",
       "max             25.000000         47082.060000  "
      ]
     },
     "execution_count": 22,
     "metadata": {},
     "output_type": "execute_result"
    }
   ],
   "source": [
    "final_df.describe()"
   ]
  },
  {
   "cell_type": "code",
   "execution_count": 23,
   "metadata": {},
   "outputs": [
    {
     "data": {
      "text/plain": [
       "0    458396\n",
       "1      6308\n",
       "Name: transact, dtype: int64"
      ]
     },
     "execution_count": 23,
     "metadata": {},
     "output_type": "execute_result"
    }
   ],
   "source": [
    "final_df['transact'].value_counts()"
   ]
  },
  {
   "cell_type": "code",
   "execution_count": 24,
   "metadata": {},
   "outputs": [
    {
     "data": {
      "image/png": "[encoded data removed]",
      "text/plain": [
       "<Figure size 864x432 with 1 Axes>"
      ]
     },
     "metadata": {},
     "output_type": "display_data"
    }
   ],
   "source": [
    "ax = sns.boxplot(x=final_df[\"Transaction_Revenue\"])"
   ]
  },
  {
   "cell_type": "code",
   "execution_count": 25,
   "metadata": {},
   "outputs": [
    {
     "data": {
      "image/png": "[encoded data removed]",
      "text/plain": [
       "<Figure size 864x432 with 1 Axes>"
      ]
     },
     "metadata": {},
     "output_type": "display_data"
    }
   ],
   "source": [
    "ax = sns.boxplot(x=final_df[\"Transactions_Total\"])"
   ]
  },
  {
   "cell_type": "markdown",
   "metadata": {},
   "source": [
    "**Plot for the number of transactions by month**\n",
    "\n",
    "From the plot you can see that there isn't a lot of variation in the number of transactions completed per month. "
   ]
  },
  {
   "cell_type": "code",
   "execution_count": 26,
   "metadata": {},
   "outputs": [
    {
     "data": {
      "image/png": "[encoded data removed]",
      "text/plain": [
       "<Figure size 864x432 with 1 Axes>"
      ]
     },
     "metadata": {},
     "output_type": "display_data"
    }
   ],
   "source": [
    "plot=sns.countplot(x='month', data=final_df[~final_df['transact'].str.startswith(('C'))])\n",
    "plt.xlabel(\"Month\")\n",
    "plt.ylabel(\"# Transactions\")\n",
    "plt.title(\"Number of Transactions by Month\")\n",
    "plt.show(plot)"
   ]
  },
  {
   "cell_type": "markdown",
   "metadata": {},
   "source": [
    "**Plot for the number of transactions by date**\n",
    "\n",
    "From the plot you can see that there is a dip in the number of transactions towards the end of the month. This could be show that the visitors are more cautious about spending towards the end of the month."
   ]
  },
  {
   "cell_type": "code",
   "execution_count": 27,
   "metadata": {},
   "outputs": [
    {
     "data": {
      "image/png": "[encoded data removed]",
      "text/plain": [
       "<Figure size 864x432 with 1 Axes>"
      ]
     },
     "metadata": {},
     "output_type": "display_data"
    }
   ],
   "source": [
    "plot=sns.countplot(x='day', data=final_df[~final_df['transact'].str.startswith(('C'))])\n",
    "plt.xlabel(\"Day\")\n",
    "plt.ylabel(\"# Transactions\")\n",
    "plt.title(\"Number of Transactions by Day of the Month\")\n",
    "plt.show(plot)"
   ]
  },
  {
   "cell_type": "markdown",
   "metadata": {},
   "source": [
    "**Plot for the number of transactions by hour**\n",
    "\n",
    "The graph clearly shows an increase in the number of transactions from mid-afternoon or post 15:00. The number of transactions peak during the evening and continue to fall during the night. As would be expected, the number of transactions are lowest in the early hours of the morning. The presence of the transactions during the early hours could also indicate that the site is accessed in other timezones where probably it is not the early morning hours"
   ]
  },
  {
   "cell_type": "code",
   "execution_count": 28,
   "metadata": {},
   "outputs": [
    {
     "data": {
      "image/png": "[encoded data removed]",
      "text/plain": [
       "<Figure size 864x432 with 1 Axes>"
      ]
     },
     "metadata": {},
     "output_type": "display_data"
    }
   ],
   "source": [
    "plot=sns.countplot(x='hour', data=final_df[~final_df['transact'].str.startswith(('C'))])\n",
    "plt.xlabel(\"Hour\")\n",
    "plt.ylabel(\"# Transactions\")\n",
    "plt.title(\"Number of Transactions by Hour\")\n",
    "plt.show(plot)"
   ]
  },
  {
   "cell_type": "markdown",
   "metadata": {},
   "source": [
    "**Plot for the number of transactions by number of page views**\n",
    "\n",
    "From the plot you can see that there are outliers and that most of the transactions happen when the number of page views is less than 25. "
   ]
  },
  {
   "cell_type": "code",
   "execution_count": 29,
   "metadata": {},
   "outputs": [
    {
     "data": {
      "image/png": "[encoded data removed]",
      "text/plain": [
       "<Figure size 864x432 with 1 Axes>"
      ]
     },
     "metadata": {},
     "output_type": "display_data"
    }
   ],
   "source": [
    "temp_file = final_df.groupby(by=['Page_Views_Total'], as_index=False)['transact'].count()\n",
    "plt.plot(temp_file.Page_Views_Total, temp_file.transact,color='green')\n",
    "plt.xlabel('Page Views')\n",
    "plt.ylabel('Number of Transactions')\n",
    "plt.title('Number of Transactions by Number of Page Views')\n",
    "plt.show()"
   ]
  },
  {
   "cell_type": "markdown",
   "metadata": {},
   "source": [
    "**Plot for the number of transactions by time spent per session**\n",
    "\n",
    "From the plot you can see that there are outliers and that most of the transactions happen when the time per session is less than 200"
   ]
  },
  {
   "cell_type": "code",
   "execution_count": 30,
   "metadata": {},
   "outputs": [
    {
     "data": {
      "image/png": "[encoded data removed]",
      "text/plain": [
       "<Figure size 864x432 with 1 Axes>"
      ]
     },
     "metadata": {},
     "output_type": "display_data"
    }
   ],
   "source": [
    "temp_file = final_df.groupby(by=['Time_Per_Session_Total'], as_index=False)['transact'].count()\n",
    "plt.plot(temp_file.Time_Per_Session_Total, temp_file.transact)\n",
    "plt.xlabel('Time Spent per Session')\n",
    "plt.ylabel('Number of Transactions')\n",
    "plt.title('Number of Transactions by Time Spent per Session(seconds)')\n",
    "plt.show()  "
   ]
  },
  {
   "cell_type": "markdown",
   "metadata": {},
   "source": [
    "**Plot for the number of transactions by Device**"
   ]
  },
  {
   "cell_type": "code",
   "execution_count": 31,
   "metadata": {},
   "outputs": [
    {
     "data": {
      "image/png": "[encoded data removed]",
      "text/plain": [
       "<Figure size 864x432 with 1 Axes>"
      ]
     },
     "metadata": {},
     "output_type": "display_data"
    }
   ],
   "source": [
    "plot = sns.countplot(x='Device_Catg', data=final_df[~final_df['transact'].str.startswith(('C'))])\n",
    "plt.xlabel(\"Device Category\")\n",
    "plt.ylabel(\"# Transactions\")\n",
    "plt.title(\"Number of Transactions by Month\")\n",
    "plt.show(plot)"
   ]
  },
  {
   "cell_type": "markdown",
   "metadata": {},
   "source": [
    "**Plot for the number of transactions by the Top Ten Cities**\n",
    "\n",
    "There are a lot of missing values for the City given by 'not available in demo dataset' or '(not set)'. These can be removed and we can generate this list of top ten cities by transaction numbers again"
   ]
  },
  {
   "cell_type": "code",
   "execution_count": 32,
   "metadata": {},
   "outputs": [
    {
     "name": "stdout",
     "output_type": "stream",
     "text": [
      "There are 436 unique cities in the dataset. Top 10 cities are:\n",
      "City\n",
      "not available in demo dataset    222985\n",
      "(not set)                         13483\n",
      "Mountain View                     12654\n",
      "New York                           9649\n",
      "San Francisco                      7677\n",
      "London                             5987\n",
      "Sunnyvale                          4732\n",
      "San Jose                           3769\n",
      "Los Angeles                        3716\n",
      "Bengaluru                          2705\n",
      "Name: Visitor_id, dtype: int64\n",
      "\n",
      "The top 10 cities covers 61.8 percent of all the orders.\n"
     ]
    },
    {
     "data": {
      "text/plain": [
       "<matplotlib.axes._subplots.AxesSubplot at 0x2c8285593c8>"
      ]
     },
     "execution_count": 32,
     "metadata": {},
     "output_type": "execute_result"
    },
    {
     "data": {
      "image/png": "[encoded data removed]",
      "text/plain": [
       "<Figure size 864x432 with 1 Axes>"
      ]
     },
     "metadata": {},
     "output_type": "display_data"
    }
   ],
   "source": [
    "cities = final_df[\"City\"].nunique()\n",
    "city1 = final_df.groupby('City')['Visitor_id'].nunique().sort_values(ascending=False)\n",
    "print(\"There are\",cities,\"unique cities in the dataset. Top 10 cities are:\")\n",
    "city2 = city1.head(10)\n",
    "print(city2)\n",
    "print(\"\\nThe top 10 cities covers\", round(city2.sum()/final_df.shape[0]*100,1),\"percent of all the orders.\")\n",
    "city2.plot(kind=\"bar\",rot=0,edgecolor='dodgerblue', color='lightskyblue')"
   ]
  },
  {
   "cell_type": "markdown",
   "metadata": {},
   "source": [
    "**Plot for the number of transactions by the Top Ten Traffic Sources**\n"
   ]
  },
  {
   "cell_type": "code",
   "execution_count": 33,
   "metadata": {},
   "outputs": [
    {
     "name": "stdout",
     "output_type": "stream",
     "text": [
      "There are 223 unique traffic sources in the dataset. Top 10 sources are:\n",
      "Traffic_Source\n",
      "google                  148210\n",
      "(direct)                142826\n",
      "youtube.com              47077\n",
      "analytics.google.com      8286\n",
      "Partners                  7884\n",
      "google.com                2598\n",
      "m.facebook.com            2594\n",
      "dfa                       1665\n",
      "reddit.com                1175\n",
      "t.co                      1080\n",
      "Name: Visitor_id, dtype: int64\n",
      "\n",
      "The top 10 traffice sources covers 78.2 percent of all the orders.\n"
     ]
    },
    {
     "data": {
      "text/plain": [
       "<matplotlib.axes._subplots.AxesSubplot at 0x2c828962048>"
      ]
     },
     "execution_count": 33,
     "metadata": {},
     "output_type": "execute_result"
    },
    {
     "data": {
      "image/png": "[encoded data removed]",
      "text/plain": [
       "<Figure size 864x432 with 1 Axes>"
      ]
     },
     "metadata": {},
     "output_type": "display_data"
    }
   ],
   "source": [
    "sources = final_df[\"Traffic_Source\"].nunique()\n",
    "source1 = final_df.groupby('Traffic_Source')['Visitor_id'].nunique().sort_values(ascending=False)\n",
    "print(\"There are\",sources,\"unique traffic sources in the dataset. Top 10 sources are:\")\n",
    "source2 = source1.head(10)\n",
    "print(source2)\n",
    "print(\"\\nThe top 10 traffice sources covers\", round(source2.sum()/final_df.shape[0]*100,1),\"percent of all the orders.\")\n",
    "source2.plot(kind=\"bar\",rot=0,edgecolor='teal', color='turquoise')"
   ]
  },
  {
   "cell_type": "markdown",
   "metadata": {},
   "source": [
    "**Plot for the number of transactions by the Top Ten Source Medium**\n"
   ]
  },
  {
   "cell_type": "code",
   "execution_count": 34,
   "metadata": {},
   "outputs": [
    {
     "name": "stdout",
     "output_type": "stream",
     "text": [
      "There are 7 unique traffic mediums in the dataset\n",
      "Traffic_Source_Medium\n",
      "organic      145177\n",
      "(none)       142824\n",
      "referral      72318\n",
      "affiliate      7881\n",
      "cpc            6987\n",
      "cpm            2047\n",
      "(not set)        84\n",
      "Name: Visitor_id, dtype: int64\n"
     ]
    },
    {
     "data": {
      "text/plain": [
       "<matplotlib.axes._subplots.AxesSubplot at 0x2c82b34d470>"
      ]
     },
     "execution_count": 34,
     "metadata": {},
     "output_type": "execute_result"
    },
    {
     "data": {
      "image/png": "[encoded data removed]",
      "text/plain": [
       "<Figure size 864x432 with 1 Axes>"
      ]
     },
     "metadata": {},
     "output_type": "display_data"
    }
   ],
   "source": [
    "mediums = final_df[\"Traffic_Source_Medium\"].nunique()\n",
    "medium1 = final_df.groupby('Traffic_Source_Medium')['Visitor_id'].nunique().sort_values(ascending=False)\n",
    "print(\"There are\",mediums,\"unique traffic mediums in the dataset\")\n",
    "medium2 = medium1.head(10)\n",
    "print(medium2)\n",
    "medium2.plot(kind=\"bar\",rot=0,edgecolor='gold', color='khaki')\n"
   ]
  },
  {
   "cell_type": "markdown",
   "metadata": {},
   "source": [
    "**Plot for the number of transactions by the Top Ten Campaigns**\n",
    "\n",
    "There are a lot of missing values for the Campaign given by '(not set)'. These can be removed and we can generate this list of top ten cities by transaction numbers again"
   ]
  },
  {
   "cell_type": "code",
   "execution_count": 35,
   "metadata": {},
   "outputs": [
    {
     "name": "stdout",
     "output_type": "stream",
     "text": [
      "There are 7 unique campaigns in the dataset\n",
      "Traffic_Source_Campaign\n",
      "(not set)                             351762\n",
      "Data Share Promo                        7880\n",
      "AW - Accessories                        4036\n",
      "AW - Dynamic Search Ads Whole Site      2395\n",
      "AW - Apparel                              28\n",
      "AW - Electronics                           3\n",
      "Data Share                                 1\n",
      "Name: Visitor_id, dtype: int64\n"
     ]
    },
    {
     "data": {
      "image/png": "[encoded data removed]",
      "text/plain": [
       "<Figure size 864x432 with 1 Axes>"
      ]
     },
     "metadata": {},
     "output_type": "display_data"
    }
   ],
   "source": [
    "mediums = final_df[\"Traffic_Source_Campaign\"].nunique()\n",
    "medium1 = final_df.groupby('Traffic_Source_Campaign')['Visitor_id'].nunique().sort_values(ascending=False)\n",
    "print(\"There are\",mediums,\"unique campaigns in the dataset\")\n",
    "medium2 = medium1.head(10)\n",
    "print(medium2)\n",
    "medium2.plot(kind=\"bar\",rot=0,edgecolor='salmon', color='lightpink')\n",
    "ax.set_xticklabels(\n",
    "    ax.get_xticklabels(),\n",
    "    rotation=45,\n",
    "    horizontalalignment='right'\n",
    ");"
   ]
  },
  {
   "cell_type": "markdown",
   "metadata": {},
   "source": [
    "**Plot for the number of transactions by the Top Ten Channels**"
   ]
  },
  {
   "cell_type": "code",
   "execution_count": 36,
   "metadata": {},
   "outputs": [
    {
     "name": "stdout",
     "output_type": "stream",
     "text": [
      "There are 8 unique channels in the dataset\n",
      "Channel\n",
      "Organic Search    193066\n",
      "Direct             68101\n",
      "Social             55288\n",
      "Referral           38194\n",
      "Paid Search        10618\n",
      "Affiliates          7881\n",
      "Display             2093\n",
      "(Other)               84\n",
      "Name: Visitor_id, dtype: int64\n"
     ]
    },
    {
     "data": {
      "text/plain": [
       "<matplotlib.axes._subplots.AxesSubplot at 0x2c82b400630>"
      ]
     },
     "execution_count": 36,
     "metadata": {},
     "output_type": "execute_result"
    },
    {
     "data": {
      "image/png": "[encoded data removed]",
      "text/plain": [
       "<Figure size 864x432 with 1 Axes>"
      ]
     },
     "metadata": {},
     "output_type": "display_data"
    }
   ],
   "source": [
    "mediums = final_df[\"Channel\"].nunique()\n",
    "medium1 = final_df.groupby('Channel')['Visitor_id'].nunique().sort_values(ascending=False)\n",
    "print(\"There are\",mediums,\"unique channels in the dataset\")\n",
    "medium2 = medium1.head(10)\n",
    "print(medium2)\n",
    "medium2.plot(kind=\"bar\",rot=0)"
   ]
  },
  {
   "cell_type": "code",
   "execution_count": 41,
   "metadata": {},
   "outputs": [
    {
     "data": {
      "text/html": [
       "<div>\n",
       "<style scoped>\n",
       "    .dataframe tbody tr th:only-of-type {\n",
       "        vertical-align: middle;\n",
       "    }\n",
       "\n",
       "    .dataframe tbody tr th {\n",
       "        vertical-align: top;\n",
       "    }\n",
       "\n",
       "    .dataframe thead th {\n",
       "        text-align: right;\n",
       "    }\n",
       "</style>\n",
       "<table border=\"1\" class=\"dataframe\">\n",
       "  <thead>\n",
       "    <tr style=\"text-align: right;\">\n",
       "      <th></th>\n",
       "      <th>Visitor_id</th>\n",
       "      <th>City</th>\n",
       "      <th>Transaction_Revenue</th>\n",
       "    </tr>\n",
       "  </thead>\n",
       "  <tbody>\n",
       "    <tr>\n",
       "      <th>39238</th>\n",
       "      <td>1957458976293878100</td>\n",
       "      <td>not available in demo dataset</td>\n",
       "      <td>128412.52</td>\n",
       "    </tr>\n",
       "    <tr>\n",
       "      <th>344049</th>\n",
       "      <td>9417857471295131045</td>\n",
       "      <td>not available in demo dataset</td>\n",
       "      <td>41810.85</td>\n",
       "    </tr>\n",
       "    <tr>\n",
       "      <th>141774</th>\n",
       "      <td>4471415710206918415</td>\n",
       "      <td>Mountain View</td>\n",
       "      <td>10465.10</td>\n",
       "    </tr>\n",
       "    <tr>\n",
       "      <th>328025</th>\n",
       "      <td>9026840718082010040</td>\n",
       "      <td>not available in demo dataset</td>\n",
       "      <td>9011.18</td>\n",
       "    </tr>\n",
       "    <tr>\n",
       "      <th>282767</th>\n",
       "      <td>79204932396995037</td>\n",
       "      <td>not available in demo dataset</td>\n",
       "      <td>7056.15</td>\n",
       "    </tr>\n",
       "  </tbody>\n",
       "</table>\n",
       "</div>"
      ],
      "text/plain": [
       "                 Visitor_id                           City  \\\n",
       "39238   1957458976293878100  not available in demo dataset   \n",
       "344049  9417857471295131045  not available in demo dataset   \n",
       "141774  4471415710206918415                  Mountain View   \n",
       "328025  9026840718082010040  not available in demo dataset   \n",
       "282767    79204932396995037  not available in demo dataset   \n",
       "\n",
       "        Transaction_Revenue  \n",
       "39238             128412.52  \n",
       "344049             41810.85  \n",
       "141774             10465.10  \n",
       "328025              9011.18  \n",
       "282767              7056.15  "
      ]
     },
     "execution_count": 41,
     "metadata": {},
     "output_type": "execute_result"
    }
   ],
   "source": [
    "temp_df = final_df.groupby(by=['Visitor_id','City'], as_index=False)['Transaction_Revenue'].sum()\n",
    "temp_df.sort_values(by='Transaction_Revenue',ascending=False).head()"
   ]
  },
  {
   "cell_type": "code",
   "execution_count": null,
   "metadata": {},
   "outputs": [],
   "source": [
    "plt.subplots(figsize=(15,6))\n",
    "plt.plot(temp_df.Visitor_id, temp_df.Transaction_Revenue)\n",
    "plt.xlabel('Visitor ID')\n",
    "plt.ylabel('Revenue Generated ($)')\n",
    "plt.title('Revenue Generated by Visitors')\n",
    "plt.show()"
   ]
  },
  {
   "cell_type": "code",
   "execution_count": 39,
   "metadata": {},
   "outputs": [
    {
     "data": {
      "text/html": [
       "<div>\n",
       "<style scoped>\n",
       "    .dataframe tbody tr th:only-of-type {\n",
       "        vertical-align: middle;\n",
       "    }\n",
       "\n",
       "    .dataframe tbody tr th {\n",
       "        vertical-align: top;\n",
       "    }\n",
       "\n",
       "    .dataframe thead th {\n",
       "        text-align: right;\n",
       "    }\n",
       "</style>\n",
       "<table border=\"1\" class=\"dataframe\">\n",
       "  <thead>\n",
       "    <tr style=\"text-align: right;\">\n",
       "      <th></th>\n",
       "      <th>Visitor_id</th>\n",
       "      <th>City</th>\n",
       "      <th>Transactions_Total</th>\n",
       "    </tr>\n",
       "  </thead>\n",
       "  <tbody>\n",
       "    <tr>\n",
       "      <th>278419</th>\n",
       "      <td>7813149961404844386</td>\n",
       "      <td>Salem</td>\n",
       "      <td>27.0</td>\n",
       "    </tr>\n",
       "    <tr>\n",
       "      <th>184884</th>\n",
       "      <td>5526675926038480325</td>\n",
       "      <td>New York</td>\n",
       "      <td>25.0</td>\n",
       "    </tr>\n",
       "    <tr>\n",
       "      <th>39238</th>\n",
       "      <td>1957458976293878100</td>\n",
       "      <td>not available in demo dataset</td>\n",
       "      <td>22.0</td>\n",
       "    </tr>\n",
       "    <tr>\n",
       "      <th>162755</th>\n",
       "      <td>4983264713224875783</td>\n",
       "      <td>not available in demo dataset</td>\n",
       "      <td>21.0</td>\n",
       "    </tr>\n",
       "    <tr>\n",
       "      <th>312126</th>\n",
       "      <td>8637158932301658318</td>\n",
       "      <td>San Jose</td>\n",
       "      <td>15.0</td>\n",
       "    </tr>\n",
       "  </tbody>\n",
       "</table>\n",
       "</div>"
      ],
      "text/plain": [
       "                 Visitor_id                           City  Transactions_Total\n",
       "278419  7813149961404844386                          Salem                27.0\n",
       "184884  5526675926038480325                       New York                25.0\n",
       "39238   1957458976293878100  not available in demo dataset                22.0\n",
       "162755  4983264713224875783  not available in demo dataset                21.0\n",
       "312126  8637158932301658318                       San Jose                15.0"
      ]
     },
     "execution_count": 39,
     "metadata": {},
     "output_type": "execute_result"
    }
   ],
   "source": [
    "temp_df = final_df.groupby(by=['Visitor_id','City'], as_index=False)['Transactions_Total'].sum()\n",
    "temp_df.sort_values(by='Transactions_Total', ascending=False).head()"
   ]
  },
  {
   "cell_type": "code",
   "execution_count": null,
   "metadata": {},
   "outputs": [],
   "source": [
    "plt.subplots(figsize=(15,6))\n",
    "plt.plot(temp_df.Visitor_id, temp_df.Transactions_Total)\n",
    "plt.xlabel('Visitor ID')\n",
    "plt.ylabel('Number of Transactions')\n",
    "plt.title('Transactions performed by Visitors')\n",
    "plt.show()"
   ]
  },
  {
   "cell_type": "code",
   "execution_count": 44,
   "metadata": {},
   "outputs": [
    {
     "data": {
      "text/plain": [
       "Visitor_id                   int32\n",
       "Visit_Number                 int64\n",
       "Bounces                    float64\n",
       "Page_Views_Total           float64\n",
       "Time_Per_Session_Total     float64\n",
       "Transactions_Total         float64\n",
       "Traffic_Source               int32\n",
       "Traffic_Source_Medium        int32\n",
       "Traffic_Source_Campaign      int32\n",
       "Device_Catg                  int32\n",
       "OS                           int32\n",
       "City                         int32\n",
       "Channel                      int32\n",
       "transact                    object\n",
       "month                       object\n",
       "day                         object\n",
       "hour                        object\n",
       "Transaction_Revenue        float64\n",
       "dtype: object"
      ]
     },
     "execution_count": 44,
     "metadata": {},
     "output_type": "execute_result"
    }
   ],
   "source": [
    "final_df.dtypes"
   ]
  },
  {
   "cell_type": "code",
   "execution_count": 45,
   "metadata": {},
   "outputs": [],
   "source": [
    "#To convert categorical variables to integer using label encoder\n",
    "LabelEnc = LabelEncoder()\n",
    "cat_columns = ['Visitor_id','Traffic_Source','Traffic_Source_Medium','Traffic_Source_Campaign','Device_Catg',\n",
    "              'OS','City','Channel','transact','month','day','hour']\n",
    "\n",
    "for col in cat_columns:\n",
    "    final_df[col]=LabelEnc.fit_transform(final_df[col])  "
   ]
  },
  {
   "cell_type": "markdown",
   "metadata": {},
   "source": [
    "#### Correlation Matrix between all the features and transact\n",
    "As you can see from the below correlation matrix, \n",
    "- the target variable 'transact' is positively correlated with the number of pages viewed in the session (Page_Views_Total) and the time spent per session (Time_Per_Session_Total). This is apart from being positively correlated with the Transactions_Total and Transaction_Revenue, which it obviously will be correlated to.\n",
    "- the target variable 'transact' is negatively correlated with the Bounces, Traffic_Source, Traffic_Medium and the Device_Category."
   ]
  },
  {
   "cell_type": "code",
   "execution_count": 46,
   "metadata": {},
   "outputs": [
    {
     "data": {
      "image/png": "[encoded data removed]",
      "text/plain": [
       "<Figure size 864x432 with 2 Axes>"
      ]
     },
     "metadata": {},
     "output_type": "display_data"
    }
   ],
   "source": [
    "corr = final_df.corr()\n",
    "ax = sns.heatmap(\n",
    "    corr, \n",
    "    vmin=-1, vmax=1, center=0,\n",
    "    cmap=sns.diverging_palette(20, 220, n=200),\n",
    "    square=True\n",
    ")\n",
    "ax.set_xticklabels(\n",
    "    ax.get_xticklabels(),\n",
    "    rotation=45,\n",
    "    horizontalalignment='right'\n",
    ");"
   ]
  },
  {
   "cell_type": "markdown",
   "metadata": {},
   "source": [
    "# Splitting the Dataset into Test and Train"
   ]
  },
  {
   "cell_type": "code",
   "execution_count": 47,
   "metadata": {},
   "outputs": [],
   "source": [
    "#split dataset in features and target variable\n",
    "feature_cols = ['Visitor_id', 'Visit_Number', 'Bounces','Page_Views_Total','Time_Per_Session_Total',\n",
    "                'Traffic_Source','Traffic_Source_Medium','Traffic_Source_Campaign','Device_Catg',\n",
    "                'OS','City','Channel','day','month','hour']\n",
    "\n",
    "#features\n",
    "X = final_df[feature_cols] \n",
    "\n",
    "#Target variable\n",
    "y = final_df.transact "
   ]
  },
  {
   "cell_type": "code",
   "execution_count": 51,
   "metadata": {},
   "outputs": [],
   "source": [
    "# Split dataset into training set(80%) and test set(20%)\n",
    "X_train, X_test, y_train, y_test = train_test_split(X, y, test_size=0.7, random_state=42,stratify=y) "
   ]
  },
  {
   "cell_type": "markdown",
   "metadata": {},
   "source": [
    "# Decision Tree Model"
   ]
  },
  {
   "cell_type": "code",
   "execution_count": 52,
   "metadata": {},
   "outputs": [],
   "source": [
    "# Create Decision Tree classifer model\n",
    "transact_classifier = DecisionTreeClassifier()\n",
    "\n",
    "# Train Decision Tree Classifer model\n",
    "transact_classifier = transact_classifier.fit(X_train,y_train)\n",
    "\n",
    "#Predict the response for test dataset\n",
    "y_pred = transact_classifier.predict(X_test)"
   ]
  },
  {
   "cell_type": "markdown",
   "metadata": {},
   "source": [
    "# Model Metrics\n",
    "\n",
    "- Using the following features, we are able to achieve an accuracy of 98%.\n",
    "    - Visitor_id \n",
    "    - Visit_Number\n",
    "    - Bounces \n",
    "    - Page_Views_Total \n",
    "    - Time_Per_Session_Total\n",
    "    - Traffic_Source \n",
    "    - Traffic_Source_Medium \n",
    "    - Traffic_Source_Campaign \n",
    "    - Device_Catg \n",
    "    - OS \n",
    "    - City \n",
    "    - Channel \n",
    "    - day \n",
    "    - month \n",
    "    - hour \n",
    "\n",
    "\n",
    "- You can see from the confusion matrix, that the model is able to predict True Positive for 317422 observations and a True Negative for 1428 observations. The number of False Positive and False Negative observations are 2988 and 3455 respectively. \n",
    "\n",
    "\n",
    "- We have a high value for Recall, indicating the classes are correctly identified\n",
    "\n",
    "\n",
    "- We have a high value for Precision, indicating the positive class is correctly identified for most observations.\n",
    "\n",
    "\n",
    "- From feature importance dictionary, you can see the top five features which affect the classification are \n",
    "  - Page_Views_Total (26%)\n",
    "  - Visitor_Id (15%)\n",
    "  - Time_Per_Session_Total (13%)\n",
    "  - Day (8%)\n",
    "  - Hour (8%)"
   ]
  },
  {
   "cell_type": "code",
   "execution_count": 53,
   "metadata": {},
   "outputs": [
    {
     "name": "stdout",
     "output_type": "stream",
     "text": [
      "Accuracy: 0.9801932411702681\n"
     ]
    }
   ],
   "source": [
    "# Model metrics\n",
    "print(\"Accuracy:\",metrics.accuracy_score(y_test, y_pred))"
   ]
  },
  {
   "cell_type": "code",
   "execution_count": 54,
   "metadata": {},
   "outputs": [
    {
     "data": {
      "text/plain": [
       "array([[317422,   3455],\n",
       "       [  2988,   1428]], dtype=int64)"
      ]
     },
     "execution_count": 54,
     "metadata": {},
     "output_type": "execute_result"
    }
   ],
   "source": [
    "confusion_matrix(y_test,y_pred)"
   ]
  },
  {
   "cell_type": "code",
   "execution_count": 63,
   "metadata": {},
   "outputs": [
    {
     "name": "stdout",
     "output_type": "stream",
     "text": [
      "Recall =  0.9892326343115898\n"
     ]
    }
   ],
   "source": [
    "print('Recall = ',(317422/(317422+3455)))"
   ]
  },
  {
   "cell_type": "code",
   "execution_count": 67,
   "metadata": {},
   "outputs": [
    {
     "name": "stdout",
     "output_type": "stream",
     "text": [
      "Precision =  0.9906744483630349\n"
     ]
    }
   ],
   "source": [
    "print('Precision = ',(317422/(317422+2988)))"
   ]
  },
  {
   "cell_type": "code",
   "execution_count": 62,
   "metadata": {},
   "outputs": [
    {
     "name": "stdout",
     "output_type": "stream",
     "text": [
      "Visitor_id => 0.15078698726307369\n",
      "Visit_Number => 0.06511860235500853\n",
      "Bounces => 0.0\n",
      "Page_Views_Total => 0.2643213812420625\n",
      "Time_Per_Session_Total => 0.13169501205432624\n",
      "Traffic_Source => 0.012332581778215267\n",
      "Traffic_Source_Medium => 0.014652129253783806\n",
      "Traffic_Source_Campaign => 0.0030342380247639833\n",
      "Device_Catg => 0.012876064744415576\n",
      "OS => 0.034560856156037836\n",
      "City => 0.07069778737351715\n",
      "Channel => 0.027377279767181465\n",
      "day => 0.08768613325393693\n",
      "month => 0.045457079455157555\n",
      "hour => 0.07940386727851936\n"
     ]
    }
   ],
   "source": [
    "feat_impt_dict = dict(zip(X_train.columns, transact_classifier.feature_importances_))\n",
    "for key,val in feat_impt_dict.items():\n",
    "    print(key, \"=>\", val)"
   ]
  },
  {
   "cell_type": "markdown",
   "metadata": {},
   "source": [
    "# Visualization - Decision Tree"
   ]
  },
  {
   "cell_type": "code",
   "execution_count": 55,
   "metadata": {},
   "outputs": [],
   "source": [
    "dot_data = StringIO()\n",
    "export_graphviz(transact_classifier, out_file=dot_data,  \n",
    "                filled=True, rounded=True,\n",
    "                special_characters=True,feature_names = feature_cols,class_names=['0','1'])\n",
    "graph = pydotplus.graph_from_dot_data(dot_data.getvalue())  "
   ]
  },
  {
   "cell_type": "code",
   "execution_count": null,
   "metadata": {},
   "outputs": [],
   "source": [
    "Image(graph.create_png())"
   ]
  }
 ],
 "metadata": {
  "kernelspec": {
   "display_name": "Python 3",
   "language": "python",
   "name": "python3"
  },
  "language_info": {
   "codemirror_mode": {
    "name": "ipython",
    "version": 3
   },
   "file_extension": ".py",
   "mimetype": "text/x-python",
   "name": "python",
   "nbconvert_exporter": "python",
   "pygments_lexer": "ipython3",
   "version": "3.7.3"
  }
 },
 "nbformat": 4,
 "nbformat_minor": 2
}
